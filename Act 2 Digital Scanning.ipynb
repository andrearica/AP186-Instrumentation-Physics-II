{
 "cells": [
  {
   "cell_type": "code",
   "execution_count": 47,
   "metadata": {
    "ExecuteTime": {
     "end_time": "2019-08-13T04:52:03.205224Z",
     "start_time": "2019-08-13T04:52:00.477445Z"
    }
   },
   "outputs": [],
   "source": [
    "import numpy as np\n",
    "import matplotlib.pyplot as plt"
   ]
  },
  {
   "cell_type": "code",
   "execution_count": 106,
   "metadata": {
    "ExecuteTime": {
     "end_time": "2019-08-13T08:17:14.733100Z",
     "start_time": "2019-08-13T08:17:14.730098Z"
    }
   },
   "outputs": [
    {
     "data": {
      "text/plain": [
       "32.15483119906869"
      ]
     },
     "execution_count": 106,
     "metadata": {},
     "output_type": "execute_result"
    }
   ],
   "source": [
    "#equation for pixel to units x-axis\n",
    "x = 921\n",
    "(x-84)*(33/859)"
   ]
  },
  {
   "cell_type": "code",
   "execution_count": 107,
   "metadata": {
    "ExecuteTime": {
     "end_time": "2019-08-13T08:17:16.893063Z",
     "start_time": "2019-08-13T08:17:16.890061Z"
    }
   },
   "outputs": [
    {
     "data": {
      "text/plain": [
       "0.01359281437125745"
      ]
     },
     "execution_count": 107,
     "metadata": {},
     "output_type": "execute_result"
    }
   ],
   "source": [
    "#equation for pixel to units y-axis\n",
    "y = 512\n",
    "0.21-((y-20)*(0.2/501))"
   ]
  },
  {
   "cell_type": "code",
   "execution_count": 114,
   "metadata": {
    "ExecuteTime": {
     "end_time": "2019-08-13T08:18:52.613577Z",
     "start_time": "2019-08-13T08:18:52.610585Z"
    }
   },
   "outputs": [],
   "source": [
    "#poly3\n",
    "x = [0.8067,1.8824,2.919,3.880,4.917,5.916,6.915,7.9522,8.989,9.988,11.0256,12.0628,13.061,14.1373,15.136,16.135,17.1338,18.1327,19.1699,20.168,21.129,22.128,23.126,24.164,25.162,26.200,27.16,28.159,29.235,30.157,31.232,32.154]\n",
    "y = [0.204,0.19163,0.1537,0.101,0.0459,0.00481,0.0351,0.0463,0.0391,0.0195,0.00481,0.0215,0.0291,0.02437,0.01235,0.00481,0.0159,0.0215,0.0187,0.0096,0.0048,0.01439,0.0187,0.0159,0.0080,0.006,0.0139,0.017,0.0139,0.006,0.0056,0.0135]"
   ]
  },
  {
   "cell_type": "code",
   "execution_count": 115,
   "metadata": {
    "ExecuteTime": {
     "end_time": "2019-08-13T08:19:02.668827Z",
     "start_time": "2019-08-13T08:19:02.571652Z"
    }
   },
   "outputs": [
    {
     "data": {
      "image/png": "[encoded data removed]",
      "text/plain": [
       "<Figure size 432x288 with 1 Axes>"
      ]
     },
     "metadata": {},
     "output_type": "display_data"
    }
   ],
   "source": [
    "plt.scatter(x,y)\n",
    "plt.ylim(-0.01,0.21)\n",
    "plt.xlim(0,33)\n",
    "plt.savefig(\"plot.png\")\n",
    "\n"
   ]
  }
 ],
 "metadata": {
  "kernelspec": {
   "display_name": "Python 3",
   "language": "python",
   "name": "python3"
  },
  "language_info": {
   "codemirror_mode": {
    "name": "ipython",
    "version": 3
   },
   "file_extension": ".py",
   "mimetype": "text/x-python",
   "name": "python",
   "nbconvert_exporter": "python",
   "pygments_lexer": "ipython3",
   "version": "3.6.5"
  },
  "latex_envs": {
   "LaTeX_envs_menu_present": true,
   "autoclose": true,
   "autocomplete": true,
   "bibliofile": "biblio.bib",
   "cite_by": "apalike",
   "current_citInitial": 1,
   "eqLabelWithNumbers": true,
   "eqNumInitial": 1,
   "hotkeys": {
    "equation": "Ctrl-E",
    "itemize": "Ctrl-I"
   },
   "labels_anchors": false,
   "latex_user_defs": false,
   "report_style_numbering": false,
   "user_envs_cfg": false
  },
  "varInspector": {
   "cols": {
    "lenName": 16,
    "lenType": 16,
    "lenVar": 40
   },
   "kernels_config": {
    "python": {
     "delete_cmd_postfix": "",
     "delete_cmd_prefix": "del ",
     "library": "var_list.py",
     "varRefreshCmd": "print(var_dic_list())"
    },
    "r": {
     "delete_cmd_postfix": ") ",
     "delete_cmd_prefix": "rm(",
     "library": "var_list.r",
     "varRefreshCmd": "cat(var_dic_list()) "
    }
   },
   "types_to_exclude": [
    "module",
    "function",
    "builtin_function_or_method",
    "instance",
    "_Feature"
   ],
   "window_display": false
  }
 },
 "nbformat": 4,
 "nbformat_minor": 2
}
